{
 "cells": [
  {
   "cell_type": "code",
   "execution_count": 1,
   "metadata": {
    "collapsed": true
   },
   "outputs": [],
   "source": [
    "# Load libraries\n",
    "import pandas as pd\n",
    "import numpy as np\n",
    "import pandas as pd\n",
    "import matplotlib\n",
    "import matplotlib.pyplot as plt\n",
    "from sklearn.linear_model import LogisticRegression as LogReg\n",
    "import random\n",
    "from sklearn.cross_validation import KFold\n",
    "from sklearn.linear_model import LinearRegression as LinReg"
   ]
  },
  {
   "cell_type": "code",
   "execution_count": 7,
   "metadata": {
    "collapsed": false
   },
   "outputs": [
    {
     "name": "stderr",
     "output_type": "stream",
     "text": [
      "/Users/curtishsu/anaconda/lib/python2.7/site-packages/IPython/core/interactiveshell.py:2723: DtypeWarning: Columns (25,51) have mixed types. Specify dtype option on import or set low_memory=False.\n",
      "  interactivity=interactivity, compiler=compiler, result=result)\n",
      "/Users/curtishsu/anaconda/lib/python2.7/site-packages/IPython/core/interactiveshell.py:2723: DtypeWarning: Columns (25) have mixed types. Specify dtype option on import or set low_memory=False.\n",
      "  interactivity=interactivity, compiler=compiler, result=result)\n"
     ]
    }
   ],
   "source": [
    "# Read in the separate files\n",
    "data_17 = pd.read_csv(\"../data/pbp_2017.csv\")\n",
    "data_16 = pd.read_csv(\"../data/pbp_2016.csv\")\n",
    "data_15 = pd.read_csv(\"../data/pbp_2015.csv\")\n",
    "data_14 = pd.read_csv(\"../data/pbp_2014.csv\")\n",
    "data_13 = pd.read_csv(\"../data/pbp_2013.csv\")\n",
    "data_12 = pd.read_csv(\"../data/pbp_2012.csv\")\n",
    "data_11 = pd.read_csv(\"../data/pbp_2011.csv\")\n",
    "data_10 = pd.read_csv(\"../data/pbp_2010.csv\")\n",
    "\n",
    "frames = [data_17, data_16, data_15, data_14, data_13, data_12, data_11, data_10]\n",
    "data = pd.concat(frames)"
   ]
  },
  {
   "cell_type": "code",
   "execution_count": 63,
   "metadata": {
    "collapsed": false
   },
   "outputs": [],
   "source": [
    "# for each data frame get the total number of \n",
    "## offensive stats\n",
    "# get records\n",
    "# passing yards check\n",
    "# rushing yards check\n",
    "# touchdowns\n",
    "# interceptions\n",
    "# penalty yards\n",
    "\n",
    "def getPassingYards(df):\n",
    "    \n",
    "    #init\n",
    "    d_offense = {}\n",
    "    d_defense = {}    \n",
    "    d_offense['NE'] = 0\n",
    "    d_offense['DET'] = 0\n",
    "    d_offense['CLE'] = 0\n",
    "    d_defense['NE'] = 0\n",
    "    d_defense['DET'] = 0\n",
    "    d_defense['CLE'] = 0\n",
    "    \n",
    "    # iterate through rows\n",
    "    # if posteam in d_offense\n",
    "    # if playtype = Pass\n",
    "    # add to value\n",
    "    \n",
    "    for index, row in df.iterrows():\n",
    "        if row.posteam in d_offense:\n",
    "            if row.PlayType == \"Pass\":\n",
    "                d_offense[row.posteam] += row['Yards.Gained']\n",
    "                \n",
    "        if row.DefensiveTeam in d_defense:\n",
    "            if row.PlayType ==\"Pass\":\n",
    "                d_defense[row.DefensiveTeam] += row['Yards.Gained']\n",
    "    return d_offense, d_defense\n",
    "\n",
    "\n",
    "def getRushingYards(df):\n",
    "    \n",
    "    #init\n",
    "    d_offense = {}\n",
    "    d_defense = {}    \n",
    "    d_offense['NE'] = 0\n",
    "    d_offense['DET'] = 0\n",
    "    d_offense['CLE'] = 0\n",
    "    d_defense['NE'] = 0\n",
    "    d_defense['DET'] = 0\n",
    "    d_defense['CLE'] = 0\n",
    "    \n",
    "    # iterate through rows\n",
    "    # if posteam in d_offense\n",
    "    # if playtype = Pass\n",
    "    # add to value\n",
    "    \n",
    "    for index, row in df.iterrows():\n",
    "        if row.posteam in d_offense:\n",
    "            if row.PlayType == \"Run\":\n",
    "                d_offense[row.posteam] += row['Yards.Gained']\n",
    "                \n",
    "        if row.DefensiveTeam in d_defense:\n",
    "            if row.PlayType ==\"Run\":\n",
    "                d_defense[row.DefensiveTeam] += row['Yards.Gained']\n",
    "    return d_offense, d_defense\n",
    "\n",
    "def getTouchdowns(df):\n",
    "    \n",
    "    #init\n",
    "    d_offense = {}\n",
    "    d_defense = {}    \n",
    "    d_offense['NE'] = 0\n",
    "    d_offense['DET'] = 0\n",
    "    d_offense['CLE'] = 0\n",
    "    d_defense['NE'] = 0\n",
    "    d_defense['DET'] = 0\n",
    "    d_defense['CLE'] = 0\n",
    "    \n",
    "    # iterate through rows\n",
    "    # if posteam in d_offense\n",
    "    # if playtype = Pass\n",
    "    # add to value\n",
    "    \n",
    "    for index, row in df.iterrows():\n",
    "        if row.posteam in d_offense:\n",
    "            if row.Touchdown == 1:\n",
    "                d_offense[row.posteam] += 1\n",
    "                \n",
    "        if row.DefensiveTeam in d_defense:\n",
    "            if row.Touchdown == 1:\n",
    "                d_defense[row.DefensiveTeam] += 1\n",
    "    return d_offense, d_defense\n",
    "\n",
    "\n",
    "def getInterception(df):\n",
    "    \n",
    "    #init\n",
    "    d_offense = {}\n",
    "    d_defense = {}    \n",
    "    d_offense['NE'] = 0\n",
    "    d_offense['DET'] = 0\n",
    "    d_offense['CLE'] = 0\n",
    "    d_defense['NE'] = 0\n",
    "    d_defense['DET'] = 0\n",
    "    d_defense['CLE'] = 0\n",
    "    \n",
    "    # iterate through rows\n",
    "    # if posteam in d_offense\n",
    "    # if playtype = Pass\n",
    "    # add to value\n",
    "    \n",
    "    for index, row in df.iterrows():\n",
    "        if row.posteam in d_offense:\n",
    "            if row.InterceptionThrown == 1:\n",
    "                d_offense[row.posteam] += 1\n",
    "                \n",
    "        if row.DefensiveTeam in d_defense:\n",
    "            if row.InterceptionThrown == 1:\n",
    "                d_defense[row.DefensiveTeam] += 1\n",
    "    return d_offense, d_defense\n",
    "    \n",
    "    \n",
    "def getWins(df):\n",
    "    #init\n",
    "    d_offense = {}\n",
    "    d_offense['NE'] = 0\n",
    "    d_offense['DET'] = 0\n",
    "    d_offense['CLE'] = 0\n",
    "    for index, row in df.iterrows():\n",
    "        if row.desc == \"END GAME\":\n",
    "            if row.posteam in d_offense:\n",
    "                print row.posteam\n",
    "                if row.PosTeamScore > row.DefTeamScore:\n",
    "                    d_offense[row.posteam] += 1\n",
    "\n",
    "#             if row.DefensiveTeam in d_offense:\n",
    "#                 print row.DefensiveTeam\n",
    "#                 if row.DefTeamScore > row.PosTeamScore:\n",
    "#                     d_offense[row.DefensiveTeam] += 1\n",
    "    return d_offense\n",
    "    "
   ]
  },
  {
   "cell_type": "code",
   "execution_count": 50,
   "metadata": {
    "collapsed": false
   },
   "outputs": [],
   "source": [
    "def concatStats(df):\n",
    "    data = {'Team': ['CLE',\"DET\",\"NE\"]}\n",
    "    new_df = pd.DataFrame(data)\n",
    "    x, y =  getPassingYards(df)\n",
    "    new_df['OffensivePassingYards'] = x.values()\n",
    "    new_df['DefensivePassingYards'] = y.values()\n",
    "    x, y =  getRushingYards(df)\n",
    "    new_df['OffensiveRushingYards'] = x.values()\n",
    "    new_df['DefensiveRushingYards'] = y.values()\n",
    "    x, y =  getTouchdowns(df)\n",
    "    new_df['OffensiveTouchdowns'] = x.values()\n",
    "    new_df['TouchdownsScoredAgainst'] = y.values()\n",
    "    x, y =  getInterception(df)\n",
    "    new_df['Interceptions'] = x.values()\n",
    "    new_df['Picks'] = y.values()\n",
    "    new_df['Year'] = df.iloc[0:3].Season.values\n",
    "    return new_df\n",
    "    \n",
    "    "
   ]
  },
  {
   "cell_type": "code",
   "execution_count": 51,
   "metadata": {
    "collapsed": false
   },
   "outputs": [],
   "source": [
    "x = concatStats(data_17)"
   ]
  },
  {
   "cell_type": "code",
   "execution_count": 64,
   "metadata": {
    "collapsed": false
   },
   "outputs": [
    {
     "name": "stdout",
     "output_type": "stream",
     "text": [
      "CLE\n",
      "NE\n",
      "NE\n",
      "DET\n",
      "CLE\n",
      "NE\n",
      "DET\n",
      "CLE\n",
      "DET\n",
      "CLE\n",
      "NE\n",
      "DET\n",
      "CLE\n",
      "DET\n",
      "CLE\n",
      "DET\n",
      "NE\n",
      "DET\n",
      "CLE\n",
      "CLE\n",
      "CLE\n",
      "NE\n",
      "CLE\n",
      "DET\n",
      "NE\n",
      "CLE\n",
      "NE\n",
      "NE\n",
      "CLE\n",
      "DET\n",
      "NE\n",
      "DET\n",
      "NE\n",
      "NE\n",
      "DET\n",
      "NE\n",
      "DET\n"
     ]
    }
   ],
   "source": [
    "x = getWins(data_16)"
   ]
  },
  {
   "cell_type": "code",
   "execution_count": 62,
   "metadata": {
    "collapsed": false
   },
   "outputs": [
    {
     "data": {
      "text/plain": [
       "{'CLE': 0, 'DET': 5, 'NE': 11}"
      ]
     },
     "execution_count": 62,
     "metadata": {},
     "output_type": "execute_result"
    }
   ],
   "source": [
    "x"
   ]
  },
  {
   "cell_type": "code",
   "execution_count": null,
   "metadata": {
    "collapsed": true
   },
   "outputs": [],
   "source": []
  }
 ],
 "metadata": {
  "anaconda-cloud": {},
  "kernelspec": {
   "display_name": "Python [Root]",
   "language": "python",
   "name": "Python [Root]"
  },
  "language_info": {
   "codemirror_mode": {
    "name": "ipython",
    "version": 2
   },
   "file_extension": ".py",
   "mimetype": "text/x-python",
   "name": "python",
   "nbconvert_exporter": "python",
   "pygments_lexer": "ipython2",
   "version": "2.7.12"
  }
 },
 "nbformat": 4,
 "nbformat_minor": 0
}
