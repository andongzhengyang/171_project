{
 "cells": [
  {
   "cell_type": "code",
   "execution_count": 1,
   "metadata": {
    "collapsed": false
   },
   "outputs": [],
   "source": [
    "import pandas as pd\n",
    "import numpy as np\n",
    "from sklearn import tree\n",
    "import pydotplus\n",
    "from sklearn.datasets import load_iris\n",
    "from sklearn import tree\n",
    "import collections\n",
    "\n",
    "from sklearn.tree import DecisionTreeClassifier, export_graphviz\n",
    "from sklearn import tree\n",
    "from sklearn.datasets import load_wine\n",
    "from IPython.display import SVG\n",
    "from graphviz import Source\n",
    "from IPython.display import display"
   ]
  },
  {
   "cell_type": "code",
   "execution_count": 2,
   "metadata": {
    "collapsed": false
   },
   "outputs": [],
   "source": [
    "# team data processing\n",
    "def getTeamStats(year):\n",
    "    indices = [\"\", \" (1)\", \" (2)\", \" (3)\", \" (4)\"]\n",
    "    o = []\n",
    "    for i in indices:\n",
    "        txt = \"teamstats/\" + str(year) + \"/offense/team-stats\" + i + \".csv\"\n",
    "        o.append(pd.read_csv(txt))\n",
    "    tot = o[0]\n",
    "    tot['curYear'] = year\n",
    "    tot['nextYear'] = year + 1\n",
    "    for i in range(1, len(o)):\n",
    "        tot = pd.merge(tot, o[i], on=\"TeamName\")\n",
    "        \n",
    "    d = []\n",
    "    for i in indices:\n",
    "        txt = \"teamstats/\" + str(year) + \"/defense/team-stats\" + i + \".csv\"\n",
    "        d.append(pd.read_csv(txt))\n",
    "    for i in range(0, len(d)):\n",
    "        tot = pd.merge(tot, d[i], on=\"TeamName\")\n",
    "    \n",
    "        \n",
    "        \n",
    "#     o1 = \"data/teamstats/\" + str(year) + \"offense/team-stats.csv\"\n",
    "#     o2 = \"data/teamstats/\" + str(year) + \"offense/team-stats (1).csv\"\n",
    "#     o3 = \"data/teamstats/\" + str(year) + \"offense/team-stats (2).csv\"\n",
    "#     o4 = \"data/teamstats/\" + str(year) + \"offense/team-stats (3).csv\"\n",
    "#     o5 = \"data/teamstats/\" + str(year) + \"offense/team-stats (4).csv\"\n",
    "#     offense = pd.merge(o1,o2, on=\"TeamName\")\n",
    "#     offense = pd.merge(offense,o3, on=\"TeamName\")\n",
    "#     offense = pd.merge(offense,o4, on=\"TeamName\")\n",
    "#     offense = pd.merge(offense,o5, on=\"TeamName\")\n",
    "    \n",
    "#     d1 = \"data/teamstats/\" + str(year) + \"defense/team-stats.csv\"\n",
    "#     d2 = \"data/teamstats/\" + str(year) + \"defense/team-stats (1).csv\"\n",
    "#     d3 = \"data/teamstats/\" + str(year) + \"defense/team-stats (2).csv\"\n",
    "#     d4 = \"data/teamstats/\" + str(year) + \"defense/team-stats (3).csv\"\n",
    "#     d5 = \"data/teamstats/\" + str(year) + \"defense/team-stats (4).csv\"\n",
    "#     defense = pd.merge(o1,o2, on=\"TeamName\")\n",
    "#     defense = pd.merge(defense,o3, on=\"TeamName\")\n",
    "#     defense = pd.merge(defense,o4, on=\"TeamName\")\n",
    "#     defense = pd.merge(defense,o5, on=\"TeamName\")\n",
    "#     total = pd.merge(offense, defense, on=\"Teamname\")\n",
    "    return tot\n",
    "    \n",
    "l = []\n",
    "for i in range(2010, 2018):\n",
    "    x = getTeamStats(i)\n",
    "    l.append(x)\n",
    "d = pd.concat(l)\n",
    "d = d.reset_index()\n",
    "\n",
    "d.to_csv(\"data.csv\")\n"
   ]
  },
  {
   "cell_type": "code",
   "execution_count": 3,
   "metadata": {
    "collapsed": false
   },
   "outputs": [],
   "source": [
    "# d.TimeOfPossession[0].split(\":\")\n",
    "\n",
    "def getTimeofP(row):\n",
    "    x, y = row.TimeOfPossession_x.split(\":\")\n",
    "    m = int(x)\n",
    "    n = int(y)\n",
    "    return m*60 + n\n",
    "d[\"TimeOfPossession\"] = d.apply(getTimeofP, axis=1)"
   ]
  },
  {
   "cell_type": "code",
   "execution_count": 4,
   "metadata": {
    "collapsed": false
   },
   "outputs": [],
   "source": [
    "# get playoff teams\n",
    "playoffs = {}\n",
    "playoffs[2010] = [\"Patriots\", \"Steelers\", \"Falcons\", \"Bears\", \"Jets\", \"Colts\" \"Ravens\", \"Chiefs\", \"Packers\", \"Eagles\", \"Saints\", \"Seahawks\"]\n",
    "playoffs[2011] = [\"Patriots\", \"Ravens\", \"Packers\", \"49ers\", \"Falcons\", \"Giants\", \"Lions\", \"Bengals\", \"Texans\", \"Steelers\", \"Broncos\"]\n",
    "playoffs[2012] = [\"Broncos\", \"Patriots\", \"Texans\", \"Ravens\", \"Colts\", \"Bengals\", \"Ffalcons\", \"49ers\", \"Packers\", \"Redskins\", \"Seahawks\", \"Vikings\"]\n",
    "playoffs[2013] = [\"Broncos\", \"Patriots\", \"Bengals\", \"Colts\", \"Chiefs\", \"Chargers\", \"Seahawks\", \"Panthers\", \"Eagles\", \"Packers\", \"49ers\", \"Saints\"]\n",
    "playoffs[2014] = [\"Patriots\", \"Broncos\", \"Steelers\", \"Colts\", \"Bengals\", \"Ravens\", \"Seahawks\", \"Packers\", \"Cowboys\", \"Panthers\", \"Cardinals\", \"Lions\"]\n",
    "playoffs[2015] = [\"Broncos\", \"Patriots\", \"Bengals\", \"Texans\", \"Chiefs\", \"Steelers\", \"Panthers\", \"Cardinals\", \"Vikings\", \"Redskins\", \"Packers\", \"Seahawks\"]\n",
    "playoffs[2016] = [\"Patriots\", \"Chiefs\", \"Steelers\", \"Texans\", \"Raiders\", \"Dolphins\", \"Cowboys\", \"Falcons\", \"Seahawks\", \"Packers\", \"Giants\", \"Lions\"]\n",
    "playoffs[2017] = [\"Patriots\", \"Steelers\", \"Jaguars\", \"Chiefs\", \"Titans\", \"Bills\", \"Eagles\", \"Vikings\", \"Rams\", \"Saints\", \"Panters\", \"Falcons\"]"
   ]
  },
  {
   "cell_type": "code",
   "execution_count": 5,
   "metadata": {
    "collapsed": false
   },
   "outputs": [],
   "source": [
    "def getPlayoffs(row):\n",
    "    if row['TeamName'] in playoffs[row[\"curYear\"]]:\n",
    "        return 1\n",
    "    else:\n",
    "        return 0\n",
    "    \n",
    "#     curYear = \n",
    "#     df['p'] = 0\n",
    "#     for index, row in df.iterrows():\n",
    "#         if df.loc[index, \"TeamName\"] in playoffs[int(df.loc[index, 'curYear'])]:\n",
    "#             df.loc[index, 'p'] = 1\n",
    "#     return df"
   ]
  },
  {
   "cell_type": "code",
   "execution_count": 6,
   "metadata": {
    "collapsed": false
   },
   "outputs": [],
   "source": [
    "d['Playoffs'] = d.apply(getPlayoffs, axis = 1)\n",
    "d = d.ix[:,~d.columns.duplicated()]"
   ]
  },
  {
   "cell_type": "code",
   "execution_count": 7,
   "metadata": {
    "collapsed": false
   },
   "outputs": [],
   "source": [
    "# features will be \n",
    "# data_train = d.loc[:,[\"TeamName\", \"PointsPerGame_x\"]]\n",
    "features = [\"PointsPerGame_x\" , 'ThirdDownPercentage', 'RedZonePercentage', 'OffensiveYardsPerPlay', 'PenaltyYards', 'TimeOfPossession', 'TurnoverDifferential', 'RushingYards_x', 'TimesSacked_x', 'PassingYards_x', 'OpponentRedZonePercentage', 'OpponentPassingYards_x', 'OpponentRushingYards_x', 'PasserRating']\n",
    "data_train_x = d.loc[:,features]\n",
    "data_train_y = d.loc[:, [\"Playoffs\"]]"
   ]
  },
  {
   "cell_type": "code",
   "execution_count": 8,
   "metadata": {
    "collapsed": false
   },
   "outputs": [],
   "source": [
    "clf = tree.DecisionTreeClassifier()\n",
    "clf = clf.fit(data_train_x, data_train_y)"
   ]
  },
  {
   "cell_type": "code",
   "execution_count": 12,
   "metadata": {
    "collapsed": false
   },
   "outputs": [
    {
     "data": {
      "text/plain": [
       "True"
      ]
     },
     "execution_count": 12,
     "metadata": {},
     "output_type": "execute_result"
    }
   ],
   "source": [
    "dot_data = tree.export_graphviz(clf,\n",
    "                                feature_names=features,\n",
    "                                out_file=None,\n",
    "                                filled=True,\n",
    "                                rounded=True)\n",
    "graph = pydotplus.graph_from_dot_data(dot_data)\n",
    "\n",
    "colors = ('turquoise', 'orange')\n",
    "edges = collections.defaultdict(list)\n",
    "\n",
    "for edge in graph.get_edge_list():\n",
    "    edges[edge.get_source()].append(int(edge.get_destination()))\n",
    "\n",
    "for edge in edges:\n",
    "    edges[edge].sort()    \n",
    "    for i in range(2):\n",
    "        dest = graph.get_node(str(edges[edge][i]))[0]\n",
    "        dest.set_fillcolor(colors[i])\n",
    "\n",
    "graph.write_png('tree.png')"
   ]
  },
  {
   "cell_type": "code",
   "execution_count": null,
   "metadata": {
    "collapsed": false
   },
   "outputs": [],
   "source": [
    "np.any(np.isnan(data_train_x))\n",
    "# np.all(np.isfinite(data_train_x))"
   ]
  },
  {
   "cell_type": "code",
   "execution_count": 121,
   "metadata": {
    "collapsed": false
   },
   "outputs": [
    {
     "data": {
      "text/plain": [
       "(256, 14)"
      ]
     },
     "execution_count": 121,
     "metadata": {},
     "output_type": "execute_result"
    }
   ],
   "source": [
    "data_train_x.shape"
   ]
  },
  {
   "cell_type": "code",
   "execution_count": 122,
   "metadata": {
    "collapsed": false
   },
   "outputs": [
    {
     "data": {
      "text/plain": [
       "(256, 1)"
      ]
     },
     "execution_count": 122,
     "metadata": {},
     "output_type": "execute_result"
    }
   ],
   "source": [
    "data_train_y.shape"
   ]
  },
  {
   "cell_type": "code",
   "execution_count": 161,
   "metadata": {
    "collapsed": false
   },
   "outputs": [
    {
     "data": {
      "text/html": [
       "<div>\n",
       "<table border=\"1\" class=\"dataframe\">\n",
       "  <thead>\n",
       "    <tr style=\"text-align: right;\">\n",
       "      <th></th>\n",
       "      <th>PointsPerGame_x</th>\n",
       "      <th>ThirdDownPercentage</th>\n",
       "      <th>RedZonePercentage</th>\n",
       "      <th>OffensiveYardsPerPlay</th>\n",
       "      <th>PenaltyYards</th>\n",
       "      <th>TimeOfPossession</th>\n",
       "      <th>TurnoverDifferential</th>\n",
       "      <th>RushingYards_x</th>\n",
       "      <th>TimesSacked_x</th>\n",
       "      <th>PassingYards_x</th>\n",
       "      <th>OpponentRedZonePercentage</th>\n",
       "      <th>OpponentPassingYards_x</th>\n",
       "      <th>OpponentRushingYards_x</th>\n",
       "      <th>PasserRating</th>\n",
       "    </tr>\n",
       "  </thead>\n",
       "  <tbody>\n",
       "  </tbody>\n",
       "</table>\n",
       "</div>"
      ],
      "text/plain": [
       "Empty DataFrame\n",
       "Columns: [PointsPerGame_x, ThirdDownPercentage, RedZonePercentage, OffensiveYardsPerPlay, PenaltyYards, TimeOfPossession, TurnoverDifferential, RushingYards_x, TimesSacked_x, PassingYards_x, OpponentRedZonePercentage, OpponentPassingYards_x, OpponentRushingYards_x, PasserRating]\n",
       "Index: []"
      ]
     },
     "execution_count": 161,
     "metadata": {},
     "output_type": "execute_result"
    }
   ],
   "source": [
    "data_train_x.loc[data_train_x.isnull().any(axis=1) == 1]"
   ]
  },
  {
   "cell_type": "code",
   "execution_count": null,
   "metadata": {
    "collapsed": true
   },
   "outputs": [],
   "source": []
  }
 ],
 "metadata": {
  "anaconda-cloud": {},
  "kernelspec": {
   "display_name": "Python [Root]",
   "language": "python",
   "name": "Python [Root]"
  },
  "language_info": {
   "codemirror_mode": {
    "name": "ipython",
    "version": 2
   },
   "file_extension": ".py",
   "mimetype": "text/x-python",
   "name": "python",
   "nbconvert_exporter": "python",
   "pygments_lexer": "ipython2",
   "version": "2.7.12"
  }
 },
 "nbformat": 4,
 "nbformat_minor": 0
}
